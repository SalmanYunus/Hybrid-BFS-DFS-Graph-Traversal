{
  "nbformat": 4,
  "nbformat_minor": 0,
  "metadata": {
    "colab": {
      "provenance": []
    },
    "kernelspec": {
      "name": "python3",
      "display_name": "Python 3"
    },
    "language_info": {
      "name": "python"
    }
  },
  "cells": [
    {
      "cell_type": "code",
      "source": [
        "import numpy as np\n",
        "import matplotlib.pyplot as plt\n",
        "import networkx as nx\n",
        "import random"
      ],
      "metadata": {
        "id": "iI-xiHXa2zqY"
      },
      "execution_count": 1,
      "outputs": []
    },
    {
      "cell_type": "code",
      "source": [
        "def BFS(start, visited, adj_mat):         \n",
        "        q = [start]\n",
        "        visited[start] = True\n",
        "        lst = []\n",
        "        while q:\n",
        "            vis = q[0]\n",
        "            lst.append(vis)\n",
        "            q.pop(0)\n",
        "            for i in range(15):\n",
        "                if (adj_mat[vis][i] == 1 and\n",
        "                      (not visited[i])):\n",
        "                    q.append(i)\n",
        "                    visited[i] = True\n",
        "        return lst\n",
        "\n",
        "def DFS(start, visited, lst, adj_mat):\n",
        "        if visited[start] is not True:\n",
        "          lst.append(start)\n",
        "        visited[start] = True\n",
        "        for i in range(15):\n",
        "            if (adj_mat[start][i] == 1 and\n",
        "                    (not visited[i])):\n",
        "                DFS(i, visited, lst, adj_mat)\n",
        "\n",
        "def dfs_traversal(source):\n",
        "  lst = [source]\n",
        "  for i,j in list(nx.dfs_edges(g, source=source)):\n",
        "    lst.append(j)\n",
        "  return lst\n",
        "\n",
        "def bfs_traversal(source):\n",
        "  lst = [source]\n",
        "  for i,j in list(nx.bfs_edges(g, source=source)):\n",
        "    lst.append(j)\n",
        "  return lst\n",
        "\n",
        "def generateRandomGraph():\n",
        "  g = nx.balanced_tree(2,3)\n",
        "  nx.draw_networkx(g)\n",
        "  plt.savefig('graph.png', dpi=300, bbox_inches='tight')\n",
        "  plt.show()\n",
        "  return g\n",
        "\n",
        "def networkx_traversals(start):\n",
        "  dfs_lst = dfs_traversal(start)\n",
        "  print(\"DFS: \", dfs_lst)\n",
        "  bfs_lst = bfs_traversal(start)\n",
        "  print(\"BFS: \", bfs_lst)\n",
        "  return bfs_lst, dfs_lst\n",
        "\n",
        "def customCode_traversals(g, start):\n",
        "  adj_mat = np.array(nx.adjacency_matrix(g).todense())\n",
        "\n",
        "  visited = [False] * 15\n",
        "  dfs_lst = []\n",
        "  DFS(start, visited, dfs_lst, adj_mat)\n",
        "  print(\"DFS: \", dfs_lst)\n",
        "\n",
        "  visited = [False] * 15\n",
        "  bfs_lst = BFS(start, visited, adj_mat)\n",
        "  print(\"BFS: \", bfs_lst)\n",
        "\n",
        "  return bfs_lst, dfs_lst, adj_mat\n",
        "\n",
        "def combining_dfs_bfs(bfs_lst, bfs_iterations, adj_mat):\n",
        "  vis_lst = [False]*15\n",
        "  for i in range(bfs_iterations):\n",
        "    vis_lst[bfs_lst[i]]=True  \n",
        "  #print(vis_lst)\n",
        "\n",
        "  dfs_lst_new = []\n",
        "  DFS(bfs_lst[bfs_iterations],vis_lst,dfs_lst_new, adj_mat)\n",
        "  print(\"bfs initial part: \",bfs_lst[:bfs_iterations])\n",
        "  print(f\"dfs part starting from {bfs_lst[bfs_iterations]}: \", dfs_lst_new)\n",
        "\n",
        "  final_lst = bfs_lst[:bfs_iterations] + dfs_lst_new\n",
        "  return final_lst\n",
        "\n",
        "def running_algorithm(start_node):\n",
        "  n = start_node\n",
        "  print(f\"Starting from node {n}\")\n",
        "  bfs_lst, dfs_lst, adj_mat = customCode_traversals(g, start=n)\n",
        "  print()\n",
        "  print(\"Running BFS for first 5 iterations: \")\n",
        "  final_lst = combining_dfs_bfs(bfs_lst=bfs_lst, bfs_iterations=4, adj_mat=adj_mat)\n",
        "  return bfs_lst, dfs_lst, final_lst\n",
        "\n",
        "def writeOutput(bfs_lst, dfs_lst, final_lst, filename='output.txt' ):\n",
        "  f = open(filename,'w')\n",
        "\n",
        "  f.write(\"BFS: \")\n",
        "  for i in bfs_lst:\n",
        "    f.write(str(i))\n",
        "    f.write(\" \")\n",
        "  f.write(\"\\n\")\n",
        "  f.write(\"DFS: \")\n",
        "  for i in dfs_lst:\n",
        "    f.write(str(i))\n",
        "    f.write(\" \")\n",
        "  f.write(\"\\n\")\n",
        "  f.write(\"Combined-first-4-iterations-bfs: \")\n",
        "  for i in final_lst:\n",
        "    f.write(str(i))\n",
        "    f.write(\" \")\n",
        "  f.write(\"\\n\")\n",
        "\n",
        "  f.close()\n",
        "\n",
        "def readOutput(filename='output.txt'):\n",
        "  f = open(filename,'r')\n",
        "\n",
        "  lst = f.readlines()\n",
        "\n",
        "  bfs_lst = lst[0].split()[1:]\n",
        "  dfs_lst = lst[1].split()[1:]\n",
        "  final_lst = lst[2].split()[1:]\n",
        "  bfs_lst = [int(i) for i in bfs_lst]\n",
        "  dfs_lst = [int(i) for i in dfs_lst]\n",
        "  final_lst = [int(i) for i in final_lst]\n",
        "\n",
        "  return bfs_lst, dfs_lst, final_lst\n",
        "\n",
        "def main():\n",
        "  g = generateRandomGraph()\n",
        "\n",
        "  starting_node = random.randint(3,14)\n",
        "  bfs_lst, dfs_lst, combined_lst = running_algorithm(starting_node)\n",
        "\n",
        "  writeOutput(bfs_lst, dfs_lst, combined_lst)\n",
        "\n",
        "  return bfs_lst, dfs_lst, combined_lst"
      ],
      "metadata": {
        "id": "kSYpIjPJG05s"
      },
      "execution_count": 21,
      "outputs": []
    },
    {
      "cell_type": "code",
      "source": [
        "bfs_lst, dfs_lst, combined_lst = main()"
      ],
      "metadata": {
        "colab": {
          "base_uri": "https://localhost:8080/",
          "height": 369
        },
        "id": "N1rowPdW58cj",
        "outputId": "bc99ab7e-f253-493c-d572-dc122554ae43"
      },
      "execution_count": 23,
      "outputs": [
        {
          "output_type": "display_data",
          "data": {
            "text/plain": [
              "<Figure size 432x288 with 1 Axes>"
            ],
            "image/png": "[encoded data removed]"
          },
          "metadata": {}
        },
        {
          "output_type": "stream",
          "name": "stdout",
          "text": [
            "Starting from node 10\n",
            "DFS:  [10, 4, 1, 0, 2, 5, 11, 12, 6, 13, 14, 3, 7, 8, 9]\n",
            "BFS:  [10, 4, 1, 9, 0, 3, 2, 7, 8, 5, 6, 11, 12, 13, 14]\n",
            "\n",
            "Running BFS for first 5 iterations: \n",
            "bfs initial part:  [10, 4, 1, 9]\n",
            "dfs part starting from 0:  [0, 2, 5, 11, 12, 6, 13, 14]\n"
          ]
        }
      ]
    },
    {
      "cell_type": "code",
      "source": [],
      "metadata": {
        "id": "TzgR39o6VauZ"
      },
      "execution_count": 9,
      "outputs": []
    },
    {
      "cell_type": "code",
      "source": [],
      "metadata": {
        "id": "eP0FDyiEGqYU"
      },
      "execution_count": 346,
      "outputs": []
    },
    {
      "cell_type": "code",
      "source": [],
      "metadata": {
        "id": "p30P_9lHVKu1"
      },
      "execution_count": null,
      "outputs": []
    },
    {
      "cell_type": "code",
      "source": [],
      "metadata": {
        "id": "D4xko7wrNiSu"
      },
      "execution_count": 346,
      "outputs": []
    },
    {
      "cell_type": "code",
      "source": [],
      "metadata": {
        "id": "mNG-kU2vObfn"
      },
      "execution_count": 348,
      "outputs": []
    },
    {
      "cell_type": "code",
      "source": [],
      "metadata": {
        "id": "Fq52yZvgN1uX"
      },
      "execution_count": 348,
      "outputs": []
    },
    {
      "cell_type": "code",
      "source": [],
      "metadata": {
        "id": "tt0QNKdAOML7"
      },
      "execution_count": null,
      "outputs": []
    }
  ]
}